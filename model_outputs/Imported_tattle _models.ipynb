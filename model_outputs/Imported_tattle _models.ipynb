{
 "cells": [
  {
   "cell_type": "code",
   "execution_count": 1,
   "metadata": {},
   "outputs": [],
   "source": [
    "# from gensim.test.utils import common_texts\n",
    "# from gensim.corpora.dictionary import Dictionary\n",
    "# from gensim.models import *\n",
    "import gensim\n",
    "import pyLDAvis\n",
    "import pyLDAvis.gensim"
   ]
  },
  {
   "cell_type": "code",
   "execution_count": 2,
   "metadata": {},
   "outputs": [],
   "source": [
    "lda = gensim.models.ldamodel.LdaModel.load(\"lda.model\")"
   ]
  },
  {
   "cell_type": "code",
   "execution_count": 4,
   "metadata": {
    "scrolled": true
   },
   "outputs": [
    {
     "name": "stdout",
     "output_type": "stream",
     "text": [
      "[(0, '0.094*\"bjp\" + 0.057*\"people\" + 0.057*\"medium\" + 0.044*\"modi\" + 0.038*\"social_media\" + 0.036*\"temple\" + 0.032*\"verification\" + 0.030*\"state\" + 0.027*\"stock\" + 0.026*\"statement\"'), (1, '0.123*\"virus\" + 0.066*\"box\" + 0.064*\"corona_virus\" + 0.056*\"year\" + 0.041*\"coronavirus\" + 0.040*\"student\" + 0.039*\"coro\" + 0.035*\"china\" + 0.032*\"message\" + 0.031*\"girl\"'), (2, '0.101*\"india\" + 0.047*\"post\" + 0.041*\"muslim\" + 0.041*\"country\" + 0.041*\"lockdown\" + 0.036*\"rally\" + 0.033*\"riot\" + 0.030*\"president\" + 0.027*\"house\" + 0.025*\"shah\"'), (3, '0.140*\"police\" + 0.089*\"woman\" + 0.081*\"name\" + 0.049*\"man\" + 0.049*\"child\" + 0.038*\"leader\" + 0.028*\"worker\" + 0.027*\"rumor\" + 0.026*\"khan\" + 0.025*\"death\"'), (4, '0.090*\"gandhi\" + 0.069*\"minister\" + 0.041*\"election\" + 0.041*\"event\" + 0.040*\"rahul_gandhi\" + 0.035*\"prime_minister\" + 0.034*\"color\" + 0.032*\"body\" + 0.028*\"vote\" + 0.026*\"communal_color\"'), (5, '0.058*\"rape\" + 0.051*\"time\" + 0.037*\"army\" + 0.036*\"evidence\" + 0.036*\"food\" + 0.030*\"mock\" + 0.030*\"mock_drill\" + 0.028*\"drill\" + 0.028*\"day\" + 0.026*\"footage\"'), (6, '0.091*\"delhi\" + 0.081*\"caa\" + 0.055*\"protest\" + 0.038*\"government\" + 0.038*\"person\" + 0.035*\"attack\" + 0.032*\"congress\" + 0.030*\"kashmir\" + 0.030*\"money\" + 0.028*\"pradesh\"')]\n"
     ]
    }
   ],
   "source": [
    "print(lda.print_topics())"
   ]
  },
  {
   "cell_type": "code",
   "execution_count": 6,
   "metadata": {},
   "outputs": [
    {
     "ename": "SyntaxError",
     "evalue": "invalid syntax (<ipython-input-6-e85329eb0fad>, line 1)",
     "output_type": "error",
     "traceback": [
      "\u001b[0;36m  File \u001b[0;32m\"<ipython-input-6-e85329eb0fad>\"\u001b[0;36m, line \u001b[0;32m1\u001b[0m\n\u001b[0;31m    common_corpus =\u001b[0m\n\u001b[0m                    ^\u001b[0m\n\u001b[0;31mSyntaxError\u001b[0m\u001b[0;31m:\u001b[0m invalid syntax\n"
     ]
    }
   ],
   "source": [
    "common_corpus = \n",
    "common_dictionary = "
   ]
  },
  {
   "cell_type": "code",
   "execution_count": 5,
   "metadata": {},
   "outputs": [
    {
     "ename": "NameError",
     "evalue": "name 'common_corpus' is not defined",
     "output_type": "error",
     "traceback": [
      "\u001b[0;31m---------------------------------------------------------------------------\u001b[0m",
      "\u001b[0;31mNameError\u001b[0m                                 Traceback (most recent call last)",
      "\u001b[0;32m<ipython-input-5-efe73f04aa47>\u001b[0m in \u001b[0;36m<module>\u001b[0;34m\u001b[0m\n\u001b[1;32m      1\u001b[0m \u001b[0mpyLDAvis\u001b[0m\u001b[0;34m.\u001b[0m\u001b[0menable_notebook\u001b[0m\u001b[0;34m(\u001b[0m\u001b[0;34m)\u001b[0m\u001b[0;34m\u001b[0m\u001b[0;34m\u001b[0m\u001b[0m\n\u001b[0;32m----> 2\u001b[0;31m \u001b[0mvis\u001b[0m \u001b[0;34m=\u001b[0m \u001b[0mpyLDAvis\u001b[0m\u001b[0;34m.\u001b[0m\u001b[0mgensim\u001b[0m\u001b[0;34m.\u001b[0m\u001b[0mprepare\u001b[0m\u001b[0;34m(\u001b[0m\u001b[0mlda\u001b[0m\u001b[0;34m,\u001b[0m \u001b[0mcommon_corpus\u001b[0m\u001b[0;34m,\u001b[0m \u001b[0mcommon_dictionary\u001b[0m\u001b[0;34m,\u001b[0m \u001b[0msort_topics\u001b[0m\u001b[0;34m=\u001b[0m\u001b[0;32mTrue\u001b[0m\u001b[0;34m,\u001b[0m \u001b[0mn_jobs\u001b[0m\u001b[0;34m=\u001b[0m\u001b[0;36m1\u001b[0m\u001b[0;34m)\u001b[0m\u001b[0;34m\u001b[0m\u001b[0;34m\u001b[0m\u001b[0m\n\u001b[0m\u001b[1;32m      3\u001b[0m \u001b[0mvis\u001b[0m\u001b[0;34m\u001b[0m\u001b[0;34m\u001b[0m\u001b[0m\n",
      "\u001b[0;31mNameError\u001b[0m: name 'common_corpus' is not defined"
     ]
    }
   ],
   "source": [
    "pyLDAvis.enable_notebook()\n",
    "vis = pyLDAvis.gensim.prepare(lda, common_corpus, common_dictionary, sort_topics=True, n_jobs=1)\n",
    "vis"
   ]
  }
 ],
 "metadata": {
  "kernelspec": {
   "display_name": "Python 3",
   "language": "python",
   "name": "python3"
  },
  "language_info": {
   "codemirror_mode": {
    "name": "ipython",
    "version": 3
   },
   "file_extension": ".py",
   "mimetype": "text/x-python",
   "name": "python",
   "nbconvert_exporter": "python",
   "pygments_lexer": "ipython3",
   "version": "3.8.2"
  }
 },
 "nbformat": 4,
 "nbformat_minor": 4
}
